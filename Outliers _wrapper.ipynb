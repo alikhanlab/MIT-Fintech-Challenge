{
 "cells": [
  {
   "cell_type": "code",
   "execution_count": 15,
   "metadata": {},
   "outputs": [],
   "source": [
    "import pandas as pd\n",
    "import numpy as np\n",
    "from sklearn.utils import resample\n",
    "from xgboost import XGBClassifier"
   ]
  },
  {
   "cell_type": "markdown",
   "metadata": {},
   "source": [
    "**read_data_small** is the function to read in the small dataset about 30 MB"
   ]
  },
  {
   "cell_type": "code",
   "execution_count": 16,
   "metadata": {},
   "outputs": [],
   "source": [
    "def read_data_small():\n",
    "    X_train = pd.read_csv(\"data_small/X_train_small.csv\")\n",
    "    X_test = pd.read_csv(\"data_small/X_test_small.csv\")\n",
    "    y_train = np.asarray(pd.read_csv(\"data_small/y_train_small.csv\", header=None)[0])\n",
    "    return X_train, X_test, y_train"
   ]
  },
  {
   "cell_type": "markdown",
   "metadata": {},
   "source": [
    "**read_data_big** is the function to read in the big dataset about 100 MB"
   ]
  },
  {
   "cell_type": "code",
   "execution_count": 17,
   "metadata": {},
   "outputs": [],
   "source": [
    "def read_data_big():\n",
    "    X_train = pd.read_csv(\"data_big/X_train_big.csv\")\n",
    "    X_test = pd.read_csv(\"data_big/X_test_big.csv\")\n",
    "    y_train = np.asarray(pd.read_csv(\"data_big/y_train_big.csv\", header=None)[0])\n",
    "    return X_train, X_test, y_train"
   ]
  },
  {
   "cell_type": "markdown",
   "metadata": {},
   "source": [
    "**read_data** is the function to read in the whole dataset about 1.5 G"
   ]
  },
  {
   "cell_type": "code",
   "execution_count": 18,
   "metadata": {},
   "outputs": [],
   "source": [
    "def read_data():\n",
    "    X_train = pd.read_csv(\"data/X_train.csv\")\n",
    "    X_test = pd.read_csv(\"data/X_test.csv\")\n",
    "    y_train = np.asarray(pd.read_csv(\"data/y_train.csv\", header=None)[0])\n",
    "    return X_train, X_test, y_train"
   ]
  },
  {
   "cell_type": "markdown",
   "metadata": {},
   "source": [
    "# Insert Your Code Here"
   ]
  },
  {
   "cell_type": "markdown",
   "metadata": {},
   "source": [
    "**detect_spoofying** is the function for training the classifier and classify the results. \n",
    "\n",
    "Here we provide an simple example."
   ]
  },
  {
   "cell_type": "code",
   "execution_count": 19,
   "metadata": {},
   "outputs": [],
   "source": [
    "### code classifier here ###\n",
    "def format_data(df):\n",
    "    '''\n",
    "    Takes raw df\n",
    "    Returns enriched df\n",
    "    '''\n",
    "    def add_stock_features(X_train):\n",
    "        ## Features extracted from stock\n",
    "        X_train = X_train.copy()\n",
    "        original_cols = X_train.columns.values.tolist()\n",
    "        X_train['dt'] = pd.to_datetime(X_train['timestamp']*1000000)\n",
    "\n",
    "        ## stock returns\n",
    "        X_train['mid'] = (X_train['bestBid'] + X_train['bestAsk'])/2\n",
    "        stocks = X_train[['obId','dt','mid']]\n",
    "        # stocks.set_index('dt',inplace=True)\n",
    "        stocks = pd.pivot_table(stocks,index='dt',columns=['obId'],values='mid')\n",
    "        stocks = stocks.resample('1s').last().ffill()\n",
    "        stocks_cols = stocks.columns\n",
    "        stocks[[x+'.r_10s' for x in stocks_cols]] = stocks[stocks_cols]/stocks[stocks_cols].shift(10)-1\n",
    "        stocks[[x+'.r_f10s' for x in stocks_cols]] = stocks[stocks_cols].shift(-10)/stocks[stocks_cols]-1\n",
    "        stocks[[x+'.r_10min' for x in stocks_cols]] = stocks[stocks_cols]/stocks[stocks_cols].shift(600)-1\n",
    "        stocks[[x+'.r_f10min' for x in stocks_cols]] = stocks[stocks_cols].shift(-600)/stocks[stocks_cols]-1\n",
    "\n",
    "        ## stock volatility\n",
    "        stocks[[x+'.vol_10min' for x in stocks_cols]] = stocks[[x+'.r_10s' for x in stocks_cols]].rolling(window=600).std()\n",
    "\n",
    "        stocks = stocks.ffill().bfill()\n",
    "\n",
    "        ## stock spread\n",
    "        X_train['spread'] = (X_train['bestAsk']-X_train['bestBid'])/(X_train['bestAsk']+X_train['bestBid'])*2\n",
    "        stocks_spread = pd.pivot_table(X_train,index='dt',columns=['obId'],values='spread')\n",
    "\n",
    "        ## stock order imbalance\n",
    "        X_train['orderImbalanceBest'] = X_train.eval('(bestAskVolume-bestBidVolume)/(bestAskVolume+bestBidVolume)')\n",
    "        X_train['orderImbalance'] = X_train.eval('((bestAskVolume+lv2AskVolume+lv3AskVolume)-(bestBidVolume+lv2BidVolume+lv3BidVolume))/(bestAskVolume+lv2AskVolume+lv3AskVolume+bestBidVolume+lv2BidVolume+lv3BidVolume)*2')\n",
    "        order_imbalance_best = pd.pivot_table(X_train,index='dt',columns=['obId'],values='orderImbalanceBest')\n",
    "        order_imbalance = pd.pivot_table(X_train,index='dt',columns=['obId'],values='orderImbalance')\n",
    "\n",
    "        ## append stock related values\n",
    "        X_train['dt_round'] = X_train['dt'].map(lambda x:x.replace(microsecond=0))\n",
    "\n",
    "        stocks_append = stocks.unstack().reset_index()\n",
    "        stocks_append.columns = ['obId','dt_round','value']\n",
    "        stocks_append['type'] = stocks_append['obId'].map(lambda x:x.split('.')[-1])\n",
    "        stocks_append['obId'] = stocks_append['obId'].map(lambda x:x.split('.')[0])\n",
    "        stocks_append = stocks_append[stocks_append['type']!=stocks_append['obId']]\n",
    "\n",
    "        stocks_append = pd.pivot_table(stocks_append,index=['obId','dt_round'],columns='type',values='value').reset_index()\n",
    "        stocks_append.reset_index(drop=True,inplace=True)\n",
    "\n",
    "        X_train_all = pd.merge(X_train,stocks_append,on=['dt_round','obId'], how='left')\n",
    "        X_train = X_train[original_cols]\n",
    "\n",
    "        ## visualization\n",
    "        #     stocks[stocks_cols].iplot(title='Stock mid price')\n",
    "        #     stocks_spread[stocks_cols].resample('10s').last().iplot(title='spread')\n",
    "        #     stocks[[x+'_vol_10min' for x in stocks_cols]].iplot(title='volatility')\n",
    "        #     order_imbalance_best.resample('10s').last().iplot(title='imbalanceBest')\n",
    "        #     order_imbalance.resample('10s').last().iplot(title='imbalance')\n",
    "        return X_train_all.drop(columns=original_cols+['dt','mid'])\n",
    "    \n",
    "    \n",
    "    def percentage_of_cancel(df):\n",
    "    \n",
    "        df_proc = df.copy()\n",
    "    \n",
    "        df_proc['operationID'] = 0\n",
    "        df_proc.loc[df_proc['operation'] == 'CANCEL', 'operationID'] = 1\n",
    "\n",
    "        df_cancel = df_proc.groupby(['member', 'obId']).agg(\n",
    "    {\n",
    "        'operationID': np.mean\n",
    "    })\n",
    "\n",
    "        f = df_cancel.reset_index()\n",
    "\n",
    "        df_out = pd.merge(df,f,on=['member','obId'],how='left')\n",
    "\n",
    "        return df_out['operationID']\n",
    "    \n",
    "\n",
    "    def change_in_volume_for_orderID(df):\n",
    "        # function that returns the column of volume change specific to orderID\n",
    "        df_vol_change = df.copy()\n",
    "\n",
    "        df_vol_change['volume_change'] = df_vol_change.groupby(['orderId'])['volume'].diff()\n",
    "\n",
    "        df_vol_change.loc[df['operation'] == 'INSERT', 'volume_change'] = df.loc[df['operation'] == 'INSERT', 'volume'] \n",
    "\n",
    "        return df_vol_change['volume_change']\n",
    "    \n",
    "\n",
    "    def possession_ordersize(df):\n",
    "        # function that returns the ratio of current possession and order size as a column\n",
    "        df_buy = df.copy()\n",
    "\n",
    "        df_buy['buy'] = 0\n",
    "        df_buy.loc[df_buy['isBuyer'] == True, 'buy'] = 1\n",
    "        df_buy.loc[df_buy['isBuyer'] == False, 'buy'] = -1\n",
    "\n",
    "        df_buy['buy_volume'] = df_buy['volume'] * df_buy['buy']\n",
    "\n",
    "        df_buy.sort_values(['timestamp'],inplace=True)\n",
    "        cols = ['member', 'obId','buy_volume']#'timestamp',\n",
    "        df_possession = df_buy.groupby(['member', 'obId']).agg(\n",
    "        {\n",
    "        #     'timestamp':'last',\n",
    "            'buy_volume': np.cumsum\n",
    "        })\n",
    "\n",
    "        df_buy['possession'] = df_possession['buy_volume']\n",
    "\n",
    "        return df_buy['possession'] / df_buy['volume']\n",
    "    \n",
    "    def add_order_vs_avg_vol_df(df_X_train):\n",
    "        df_X = df_X_train.copy()\n",
    "        df_X_agg = df_X.groupby(['obId', 'member'])\n",
    "\n",
    "        avg_order_size_dict = df_X_agg['volume'].mean().to_dict()\n",
    "        def order_vs_avg_func(obId, member, volume):\n",
    "            return volume/ avg_order_size_dict[(obId, member)]\n",
    "\n",
    "        result2 = df_X_train.apply(lambda x: order_vs_avg_func(x.obId, x.member, x.volume),axis = 1)\n",
    "\n",
    "        return result2\n",
    "    \n",
    "    \n",
    "    df = pd.concat([df, add_stock_features(df)], axis = 1)\n",
    "    df['per_cancel'] = percentage_of_cancel(df)\n",
    "    df['change_vol'] = change_in_volume_for_orderID(df)\n",
    "    df['possession_ordersize'] = possession_ordersize(df)\n",
    "    df['ord_vs_avg_vol'] = add_order_vs_avg_vol_df(df)\n",
    "    \n",
    "    \n",
    "    features_cols = [ \n",
    "    'spread',\n",
    "     'orderImbalanceBest',\n",
    "     'orderImbalance',\n",
    "     'r_10min',\n",
    "     'r_10s',\n",
    "     'r_f10min',\n",
    "     'r_f10s',\n",
    "     'vol_10min',\n",
    "     'per_cancel',\n",
    "     'change_vol',\n",
    "     'possession_ordersize',\n",
    "     'ord_vs_avg_vol']\n",
    "\n",
    "\n",
    "    df[\"isBid\"] = (df.isBid*1).fillna(-1)\n",
    "    df[\"isBuyer\"] = (df.isBuyer*1).fillna(-1)\n",
    "    df[\"isAggressor\"] = (df.isAggressor*1).fillna(-1)\n",
    "    df[\"type\"] = (df.type == \"ORDER\")*1\n",
    "    df[\"source\"] = (df.source==\"USER\")*1\n",
    "    df[\"timeSinceLastTrade\"] = df[[\"timestamp\",\"endUserRef\"]].groupby(\"endUserRef\").diff()\n",
    "\n",
    "    additional_cols = ['isBid','isBuyer','isAggressor','type','source','timeSinceLastTrade']\n",
    "\n",
    "    market_cols = [\"price\",\"volume\",\"bestBid\",\"bestAsk\",'bestBidVolume',\n",
    "                        'bestAskVolume','lv2Bid', 'lv2BidVolume','lv2Ask', \n",
    "                        'lv2AskVolume', 'lv3Bid', 'lv3BidVolume', 'lv3Ask',\n",
    "                        'lv3AskVolume']\n",
    "\n",
    "\n",
    "    features_cols = features_cols+additional_cols+market_cols\n",
    "    df = df[features_cols]\n",
    "    \n",
    "    return df\n",
    "    \n",
    "    \n",
    "#######\n",
    "def detect_spoofying(X_train, X_test, y_train):\n",
    "    \n",
    "\n",
    "#     # clean up the data\n",
    "#     X_clean = format_data(pd.concat([X_train, X_test]))\n",
    "#     X_clean = X_clean.fillna(-1)\n",
    "#     X_train_clean = X_clean.iloc[:X_train.shape[0],:]\n",
    "#     X_test_clean = X_clean.iloc[X_train.shape[0]:,:]\n",
    "#     X_train_clean_scaled = scale(X_train_clean)\n",
    "#     X_test_clean_scaled = scale(X_test_clean)\n",
    "\n",
    "#     # fit classifier\n",
    "#     clf = LogisticRegression(random_state=0, class_weight='balanced').fit(X_train_clean_scaled, y_train)\n",
    "#     y_train_prob_pred = clf.predict_proba(X_train_clean_scaled)\n",
    "#     y_test_prob_pred = clf.predict_proba(X_test_clean_scaled)\n",
    "    \n",
    "    ## rebalance data\n",
    "\n",
    "\n",
    "    # Separate majority and minority classes\n",
    "    X_train['y'] = y_train\n",
    "\n",
    "    df_1 = X_train[X_train.y==1]\n",
    "    df_2 = X_train[X_train.y==2]\n",
    "    df_0 = X_train[X_train.y==0]\n",
    "\n",
    "    n = len(df_0)\n",
    "\n",
    "    \n",
    "    # Upsample minority class\n",
    "    df_1_upsampled = resample(df_1, \n",
    "                                     replace=True,     # sample with replacement\n",
    "                                     n_samples=n,    # to match majority class\n",
    "                                     random_state=123) # reproducible results\n",
    "    df_2_upsampled = resample(df_2, \n",
    "                                     replace=True,     # sample with replacement\n",
    "                                     n_samples=n,    # to match majority class\n",
    "                                     random_state=123) # reproducible results\n",
    "\n",
    "\n",
    "    # Combine majority class w ith upsampled minority class\n",
    "    df_upsampled = pd.concat([df_1_upsampled, df_2_upsampled, df_0])\n",
    "\n",
    "    # Display new class counts\n",
    "    df_upsampled.y.value_counts()\n",
    "\n",
    "    X_train_upsampled = df_upsampled.drop(columns=['y'])\n",
    "    y_train_upsampled = df_upsampled['y'].values\n",
    "    \n",
    "    \n",
    "    #modeling\n",
    "    model = XGBClassifier()\n",
    "    #max_depth=6,nthread=-1\n",
    "    model.fit(X_train_upsampled, y_train_upsampled)\n",
    "    \n",
    "    X_train = X_train.drop(columns=['y'])\n",
    "    \n",
    "    y_train_raw_pred = model.predict(X_train)\n",
    "    y_test_raw_pred = model.predict(X_test)\n",
    "    \n",
    "    def type3_label(X_test, y_test_raw, model):\n",
    "        #y_test = y_test_raw.copy()\n",
    "\n",
    "        y_proba = model.predict_proba(X_test)\n",
    "\n",
    "        y_proba_label1 = y_proba[:,0]\n",
    "\n",
    "        ind1 = np.where(y_proba_label1 > 0.5)[0]\n",
    "        ind2 = np.where(y_proba_label1 < 0.9)[0]\n",
    "\n",
    "        rows_3 = np.intersect1d(ind1,ind2)\n",
    "\n",
    "        prob3 = np.zeros((len(y_proba),1))\n",
    "        y_proba = np.hstack((y_proba, prob3))\n",
    "        y_proba[rows_3,3] = y_proba[rows_3, 0]\n",
    "        y_proba[rows_3,0] = 0\n",
    "\n",
    "        #y_test_raw[rows_3] = 3\n",
    "\n",
    "        return y_proba\n",
    "    \n",
    "    y_train_prob_pred = type3_label(X_train, y_train_raw_pred, model)\n",
    "    y_test_prob_pred = type3_label(X_test, y_test_raw_pred, model)\n",
    "    \n",
    "    return y_train_prob_pred, y_test_prob_pred"
   ]
  },
  {
   "cell_type": "code",
   "execution_count": 20,
   "metadata": {},
   "outputs": [],
   "source": [
    "# X_train, X_test, y_train = read_data_small()"
   ]
  },
  {
   "cell_type": "code",
   "execution_count": 21,
   "metadata": {},
   "outputs": [],
   "source": [
    "# X_test = format_data(X_test)"
   ]
  },
  {
   "cell_type": "code",
   "execution_count": 22,
   "metadata": {},
   "outputs": [],
   "source": [
    "# X_test.head()"
   ]
  },
  {
   "cell_type": "code",
   "execution_count": 23,
   "metadata": {},
   "outputs": [],
   "source": [
    "# X_train = format_data(X_train)"
   ]
  },
  {
   "cell_type": "code",
   "execution_count": 24,
   "metadata": {},
   "outputs": [],
   "source": [
    "# X_train.head(10)"
   ]
  },
  {
   "cell_type": "code",
   "execution_count": 25,
   "metadata": {},
   "outputs": [],
   "source": [
    "# %time y_train_prob_pred, y_test_prob_pred = detect_spoofying(X_train, X_test, y_train)"
   ]
  },
  {
   "cell_type": "markdown",
   "metadata": {},
   "source": [
    "**score** is the function that we use to compare the results. An example is provided with scoring the predictions for the training dataset. True labels for the testing data set will be supplied to score the predictions for testing dataset."
   ]
  },
  {
   "cell_type": "markdown",
   "metadata": {},
   "source": [
    "Score is based on cohen's kappa measurement. https://en.wikipedia.org/wiki/Cohen%27s_kappa"
   ]
  },
  {
   "cell_type": "code",
   "execution_count": 26,
   "metadata": {},
   "outputs": [],
   "source": [
    "from sklearn.metrics import cohen_kappa_score\n",
    "\n",
    "def score(y_pred, y_true):\n",
    "    \"\"\"\n",
    "    y_pred: a numpy 4d array of probabilities of point assigned to each label\n",
    "    y_true: a numpy array of true labels\n",
    "    \"\"\"\n",
    "    y_pred_label = np.argmax(y_pred, axis=1)\n",
    "    return cohen_kappa_score(y_pred_label, y_true)"
   ]
  },
  {
   "cell_type": "markdown",
   "metadata": {},
   "source": [
    "**wrapper** is the main function to read in unzipped data and output a score for evaluation. In addition, the function returns the y probability matrix (both train and test) for grading. More details about submitting format are outlined below."
   ]
  },
  {
   "cell_type": "code",
   "execution_count": 1,
   "metadata": {},
   "outputs": [],
   "source": [
    "def wrapper():\n",
    "    # read in data\n",
    "    X_train, X_test, y_train = read_data_small()\n",
    "    # or if you have the computational power to work with the big data set, \n",
    "    # you can comment out the read_data_samll line and uncomment the following read_data_big\n",
    "    # X_train, X_test, y_train = read_data_big()\n",
    "    \n",
    "    X_train = format_data(X_train)\n",
    "    X_test = format_data(X_test)\n",
    "    \n",
    "    # process the data, train classifier and output probability matrix\n",
    "    y_train_prob_pred, y_test_prob_pred = detect_spoofying(X_train, X_test, y_train)\n",
    "    \n",
    "    # score the predictions\n",
    "    score_train = score(y_train_prob_pred, y_train)\n",
    "    #score_test = score(y_test_prob_pred, y_test)\n",
    "    \n",
    "    # return the scores\n",
    "    return score_train, y_train_prob_pred, y_test_prob_pred"
   ]
  },
  {
   "cell_type": "markdown",
   "metadata": {},
   "source": [
    "Call function wrapper:"
   ]
  },
  {
   "cell_type": "code",
   "execution_count": 28,
   "metadata": {},
   "outputs": [],
   "source": [
    "score_train, score_test, y_train_prob_pred, y_test_prob_pred = wrapper()"
   ]
  },
  {
   "cell_type": "markdown",
   "metadata": {},
   "source": [
    "Score for training data set is:"
   ]
  },
  {
   "cell_type": "code",
   "execution_count": 29,
   "metadata": {},
   "outputs": [
    {
     "data": {
      "text/plain": [
       "0.49521847311367384"
      ]
     },
     "execution_count": 29,
     "metadata": {},
     "output_type": "execute_result"
    }
   ],
   "source": [
    "print('Score train: ',score_train)"
   ]
  },
  {
   "cell_type": "markdown",
   "metadata": {},
   "source": [
    "### Submission Format\n",
    "\n",
    "The classifier function wrote should return a 4d nparray with 4 columns. The columns are corresponding to the class labels: 0, 1, 2, 3. Please see examples below."
   ]
  },
  {
   "cell_type": "code",
   "execution_count": 30,
   "metadata": {},
   "outputs": [
    {
     "data": {
      "text/plain": [
       "array([[9.99962926e-01, 1.63862242e-05, 2.07247394e-05, 0.00000000e+00],\n",
       "       [9.99934435e-01, 2.31882186e-05, 4.23788260e-05, 0.00000000e+00],\n",
       "       [9.99934435e-01, 2.31882186e-05, 4.23788260e-05, 0.00000000e+00],\n",
       "       ...,\n",
       "       [9.99561965e-01, 1.54756723e-04, 2.83220666e-04, 0.00000000e+00],\n",
       "       [9.99583900e-01, 3.09392868e-04, 1.06672764e-04, 0.00000000e+00],\n",
       "       [9.98822868e-01, 1.05205399e-03, 1.25032646e-04, 0.00000000e+00]])"
      ]
     },
     "execution_count": 30,
     "metadata": {},
     "output_type": "execute_result"
    }
   ],
   "source": [
    "y_train_prob_pred"
   ]
  },
  {
   "cell_type": "code",
   "execution_count": 31,
   "metadata": {},
   "outputs": [
    {
     "data": {
      "text/plain": [
       "array([[9.94330168e-01, 4.92920121e-03, 7.40602787e-04, 0.00000000e+00],\n",
       "       [9.98912096e-01, 9.35230986e-04, 1.52646709e-04, 0.00000000e+00],\n",
       "       [9.96430099e-01, 3.49597912e-03, 7.39955794e-05, 0.00000000e+00],\n",
       "       ...,\n",
       "       [9.91438508e-01, 7.66117685e-03, 9.00339859e-04, 0.00000000e+00],\n",
       "       [9.98670816e-01, 8.62737128e-04, 4.66433266e-04, 0.00000000e+00],\n",
       "       [9.99481261e-01, 2.43613569e-04, 2.75098457e-04, 0.00000000e+00]])"
      ]
     },
     "execution_count": 31,
     "metadata": {},
     "output_type": "execute_result"
    }
   ],
   "source": [
    "y_test_prob_pred"
   ]
  },
  {
   "cell_type": "markdown",
   "metadata": {},
   "source": [
    "### Write test results to csv files"
   ]
  },
  {
   "cell_type": "markdown",
   "metadata": {},
   "source": [
    "Please rename your file to indicate which data set you are working with. \n",
    "\n",
    "- If you are using the small dataset: *y_train_prob_pred_small.csv* and *y_test_prob_pred_small.csv*\n",
    "- If you are using the small dataset: *y_train_prob_pred_big.csv* and *y_test_prob_pred_big.csv*\n",
    "- If you are using the original dataset: *y_train_prob_pred.csv* and *y_test_prob_pred.csv*"
   ]
  },
  {
   "cell_type": "code",
   "execution_count": 32,
   "metadata": {},
   "outputs": [],
   "source": [
    "pd.DataFrame(y_train_prob_pred).to_csv(\"y_train_prob_pred.csv\")\n",
    "pd.DataFrame(y_test_prob_pred).to_csv(\"y_test_prob_pred.csv\")"
   ]
  }
 ],
 "metadata": {
  "kernelspec": {
   "display_name": "Python 3",
   "language": "python",
   "name": "python3"
  },
  "language_info": {
   "codemirror_mode": {
    "name": "ipython",
    "version": 3
   },
   "file_extension": ".py",
   "mimetype": "text/x-python",
   "name": "python",
   "nbconvert_exporter": "python",
   "pygments_lexer": "ipython3",
   "version": "3.7.1"
  }
 },
 "nbformat": 4,
 "nbformat_minor": 2
}
